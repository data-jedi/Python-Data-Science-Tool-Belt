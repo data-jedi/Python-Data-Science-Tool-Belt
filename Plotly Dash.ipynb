{
 "cells": [
  {
   "cell_type": "markdown",
   "metadata": {},
   "source": [
    "# Plotly Dash"
   ]
  },
  {
   "cell_type": "code",
   "execution_count": 6,
   "metadata": {},
   "outputs": [
    {
     "data": {
      "text/plain": [
       "'file:///Users/Madballa55/Dropbox/Projects/Data Science Toolbelt V2/Scatter.html'"
      ]
     },
     "execution_count": 6,
     "metadata": {},
     "output_type": "execute_result"
    }
   ],
   "source": [
    "# Scatterplot\n",
    "import numpy as np\n",
    "import seaborn as sns\n",
    "import plotly.offline as pyo\n",
    "import plotly.graph_objs as go\n",
    "\n",
    "df = sns.load_dataset('tips')\n",
    "\n",
    "data = [go.Scatter(x=df['total_bill'],\n",
    "                   y=df['tip'],\n",
    "                   mode='markers',\n",
    "                   marker=dict(\n",
    "                               size=12,\n",
    "                               color='rgb(51,204,153)',\n",
    "                               symbol='pentagon',\n",
    "                               line = {'width':2}))]\n",
    "\n",
    "layout = go.Layout(title='Total Bill vs Tips',\n",
    "                   xaxis={'title':'Total Bill'},\n",
    "                   yaxis=dict(title='Tip'),\n",
    "                   hovermode='closest')\n",
    "\n",
    "fig = go.Figure(data=data,layout=layout)\n",
    "\n",
    "pyo.plot(fig,filename='Scatter.html')"
   ]
  },
  {
   "cell_type": "code",
   "execution_count": 5,
   "metadata": {},
   "outputs": [
    {
     "data": {
      "text/plain": [
       "'file:///Users/mattbt/Desktop/Data Science Toolbelt V2/Line.html'"
      ]
     },
     "execution_count": 5,
     "metadata": {},
     "output_type": "execute_result"
    }
   ],
   "source": [
    "# Line Chart\n",
    "import numpy as np\n",
    "import plotly.offline as pyo\n",
    "import plotly.graph_objs as go\n",
    "\n",
    "x_values = np.linspace(0,1,100)\n",
    "y_values = np.random.randn(100)\n",
    "\n",
    "trace0 = go.Scatter(x=x_values,y=y_values+5,mode='markers',name='markers')\n",
    "trace1 = go.Scatter(x=x_values,y=y_values,mode='lines',name='lines')\n",
    "trace2 = go.Scatter(x=x_values,y=y_values-5,mode='lines+markers',name='lines+markers')\n",
    "\n",
    "\n",
    "\n",
    "data = [trace0,trace1,trace2]\n",
    "\n",
    "layout = go.Layout(title='Line Charts')\n",
    "\n",
    "fig = go.Figure(data=data,layout=layout)\n",
    "\n",
    "pyo.plot(fig,filename='Line.html')"
   ]
  },
  {
   "cell_type": "code",
   "execution_count": null,
   "metadata": {
    "collapsed": true
   },
   "outputs": [],
   "source": [
    "# HTML Components\n",
    "import dash\n",
    "import dash_html_components as html\n",
    "\n",
    "app = dash.Dash()\n",
    "\n",
    "app.layout = html.Div(['This is the outermost div!',\n",
    "                       html.Div('This is an inner div!',style={'color':'red','border':'2px red solid'}),\n",
    "                       html.Div('Another inner div!',style={'color':'blue','border':'3px blue solid'})],\n",
    "                      style={'color':'black','border':'2px black solid'})\n",
    "\n",
    "if __name__ == '__main__':\n",
    "    app.run_server()"
   ]
  },
  {
   "cell_type": "code",
   "execution_count": null,
   "metadata": {},
   "outputs": [
    {
     "name": "stdout",
     "output_type": "stream",
     "text": [
      " * Serving Flask app \"__main__\" (lazy loading)\n",
      " * Environment: production\n",
      "   WARNING: Do not use the development server in a production environment.\n",
      "   Use a production WSGI server instead.\n",
      " * Debug mode: off\n"
     ]
    },
    {
     "name": "stderr",
     "output_type": "stream",
     "text": [
      " * Running on http://127.0.0.1:8050/ (Press CTRL+C to quit)\n",
      "127.0.0.1 - - [16/Jan/2019 15:23:21] \"GET / HTTP/1.1\" 200 -\n",
      "127.0.0.1 - - [16/Jan/2019 15:23:23] \"GET /_dash-dependencies HTTP/1.1\" 200 -\n",
      "127.0.0.1 - - [16/Jan/2019 15:23:23] \"GET /_dash-layout HTTP/1.1\" 200 -\n"
     ]
    }
   ],
   "source": [
    "# Core Components (https://dash.plot.ly/dash-core-components)\n",
    "import dash\n",
    "import dash_core_components as dcc\n",
    "import dash_html_components as html\n",
    "\n",
    "app = dash.Dash()\n",
    "\n",
    "dropdown = dcc.Dropdown(options=[{'label':'New York City','value':'NYC'},\n",
    "                                 {'label':'San Francisco','value':'SF'}],\n",
    "                        value='SF') # Default Value\n",
    "\n",
    "slider = dcc.Slider(min=-10,max=10,step=0.5,marks={i:i for i in range(-10,10)},value=0)\n",
    "\n",
    "radio = dcc.RadioItems(options=[{'label':'New York City','value':'NYC'},\n",
    "                                 {'label':'San Francisco','value':'SF'}],\n",
    "                       value='SF')\n",
    "\n",
    "app.layout = html.Div([html.Label('Dropdown'),dropdown,html.Label('Slider'),slider,html.P(html.Label('Radio')),radio])\n",
    "\n",
    "if __name__ == '__main__':\n",
    "    app.run_server()"
   ]
  },
  {
   "cell_type": "code",
   "execution_count": null,
   "metadata": {
    "scrolled": true
   },
   "outputs": [
    {
     "name": "stderr",
     "output_type": "stream",
     "text": [
      " * Running on http://127.0.0.1:8050/ (Press CTRL+C to quit)\n",
      "127.0.0.1 - - [15/Feb/2019 16:16:58] \"GET / HTTP/1.1\" 200 -\n",
      "127.0.0.1 - - [15/Feb/2019 16:17:01] \"GET /_dash-layout HTTP/1.1\" 200 -\n",
      "127.0.0.1 - - [15/Feb/2019 16:17:01] \"GET /_dash-dependencies HTTP/1.1\" 200 -\n",
      "127.0.0.1 - - [15/Feb/2019 16:17:02] \"GET /_favicon.ico HTTP/1.1\" 200 -\n"
     ]
    }
   ],
   "source": [
    "# Markdown Text\n",
    "import dash\n",
    "import dash_core_components as dcc\n",
    "import dash_html_components as html\n",
    "\n",
    "app = dash.Dash()\n",
    "\n",
    "markdown_text = '''\n",
    "### Dash and Markdown\n",
    "\n",
    "Dash apps can be written in Markdown.\n",
    "Dash uses the [CommonMark](http://commonmark.org/) specification of Markdown.\n",
    "\n",
    "Check out their [60 Second Markdown Tutorial](http://commonmark.org/help/)\n",
    "if this is your first introduction to Markdown!\n",
    "\n",
    "Markdown includes syntax for things like **bold text** and *italics*,\n",
    "[links](http://commonmark.org/help), inline `code` snippets, lists,\n",
    "quotes, and more.\n",
    "'''\n",
    "\n",
    "app.layout = html.Div([\n",
    "    dcc.Markdown(children=markdown_text)\n",
    "])\n",
    "\n",
    "if __name__ == '__main__':\n",
    "    app.run_server()"
   ]
  },
  {
   "cell_type": "code",
   "execution_count": null,
   "metadata": {},
   "outputs": [],
   "source": []
  }
 ],
 "metadata": {
  "kernelspec": {
   "display_name": "Python 3",
   "language": "python",
   "name": "python3"
  },
  "language_info": {
   "codemirror_mode": {
    "name": "ipython",
    "version": 3
   },
   "file_extension": ".py",
   "mimetype": "text/x-python",
   "name": "python",
   "nbconvert_exporter": "python",
   "pygments_lexer": "ipython3",
   "version": "3.7.4"
  }
 },
 "nbformat": 4,
 "nbformat_minor": 2
}
